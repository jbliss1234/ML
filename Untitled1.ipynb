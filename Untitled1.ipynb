{
 "cells": [
  {
   "cell_type": "code",
   "execution_count": null,
   "metadata": {
    "collapsed": false
   },
   "outputs": [
    {
     "name": "stderr",
     "output_type": "stream",
     "text": [
      "/home/arvc/anaconda3/envs/tensorflow/lib/python3.5/site-packages/sklearn/cross_validation.py:44: DeprecationWarning: This module was deprecated in version 0.18 in favor of the model_selection module into which all the refactored classes and functions are moved. Also note that the interface of the new CV iterators are different from that of this module. This module will be removed in 0.20.\n",
      "  \"This module will be removed in 0.20.\", DeprecationWarning)\n"
     ]
    },
    {
     "name": "stdout",
     "output_type": "stream",
     "text": [
      "\n",
      " Fold 1\n",
      "    |    Population Average   |             Best Individual              |\n",
      "---- ------------------------- ------------------------------------------ ----------\n",
      " Gen   Length          Fitness   Length          Fitness      OOB Fitness  Time Left\n",
      "   0    10.51    7.89714653549        4    1.96136132291    1.94790771869     67.90m\n",
      "   1    11.21    6.37639538706        7    1.20438451199    1.19706575119     66.10m\n"
     ]
    }
   ],
   "source": [
    "import pandas as pd\n",
    "import numpy as np\n",
    "import xgboost as xgb\n",
    "from sklearn.cross_validation import KFold\n",
    "from sklearn.metrics import mean_absolute_error\n",
    "from random import randint\n",
    "from gplearn.genetic import SymbolicRegressor\n",
    "\n",
    "train = pd.read_csv('./data/allstate/train.csv')\n",
    "test = pd.read_csv('./data/allstate/test.csv')\n",
    "\n",
    "test['loss'] = np.nan\n",
    "joined = pd.concat([train, test])\n",
    "\n",
    "cat_feature = [n for n in joined.columns if n.startswith('cat')]    \n",
    "cont_feature = [n for n in joined.columns if n.startswith('cont')]                     \n",
    " \n",
    "for column in cat_feature:\n",
    "    joined[column] = pd.factorize(joined[column].values, sort=True)[0]\n",
    "\n",
    "train = joined[joined['loss'].notnull()]\n",
    "test = joined[joined['loss'].isnull()]\n",
    "\n",
    "shift = 202\n",
    "y = np.log(train['loss'] + shift)\n",
    "ids = test['id']\n",
    "X = train.drop(['loss', 'id'], 1)\n",
    "X_test = test.drop(['loss', 'id'], 1)\n",
    "\n",
    "#X = X.sample(frac=0.1)\n",
    "#y = y .iloc[X.index.values]\n",
    "\n",
    "n_folds  = 5\n",
    "kf = KFold(X.shape[0], n_folds=n_folds)\n",
    "prediction = np.zeros(ids.shape)\n",
    "\n",
    "final_fold_prediction= []\n",
    "final_fold_real = []\n",
    "\n",
    "for i, (train_index, test_index) in enumerate(kf):\n",
    "    print('\\n Fold %d' % (i + 1))\n",
    "    X_train, X_val = X.iloc[train_index], X.iloc[test_index]\n",
    "    y_train, y_val = y.iloc[train_index], y.iloc[test_index]                           \n",
    "\n",
    "    model = SymbolicRegressor(population_size=500, generations=200, stopping_criteria=0.001,\n",
    "                             p_crossover=0.7,p_subtree_mutation=0.1, \n",
    "                             p_hoist_mutation=0.05, p_point_mutation=0.1,\n",
    "                             max_samples=0.9, verbose=1, parsimony_coefficient=\"auto\", random_state=0\n",
    "                             )\n",
    "    model.fit(X_train, y_train)  \n",
    "    prediction += np.exp(model.predict(X_test)) - shift\n",
    "\n",
    "prediction = prediction/n_folds\n",
    "submission = pd.DataFrame()\n",
    "submission['id'] = ids    \n",
    "submission['loss'] = prediction\n",
    "\n",
    "submission.to_csv('./data/allstate/sub_genetic_5folds.csv', index=False)  "
   ]
  },
  {
   "cell_type": "code",
   "execution_count": null,
   "metadata": {
    "collapsed": true
   },
   "outputs": [],
   "source": []
  }
 ],
 "metadata": {
  "anaconda-cloud": {},
  "kernelspec": {
   "display_name": "Python [conda env:tensorflow]",
   "language": "python",
   "name": "conda-env-tensorflow-py"
  },
  "language_info": {
   "codemirror_mode": {
    "name": "ipython",
    "version": 3
   },
   "file_extension": ".py",
   "mimetype": "text/x-python",
   "name": "python",
   "nbconvert_exporter": "python",
   "pygments_lexer": "ipython3",
   "version": "3.5.2"
  }
 },
 "nbformat": 4,
 "nbformat_minor": 1
}
