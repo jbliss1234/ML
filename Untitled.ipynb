{
 "cells": [
  {
   "cell_type": "code",
   "execution_count": null,
   "metadata": {
    "collapsed": false
   },
   "outputs": [
    {
     "name": "stderr",
     "output_type": "stream",
     "text": [
      "/home/arvc/anaconda3/envs/tensorflow/lib/python3.5/site-packages/sklearn/cross_validation.py:44: DeprecationWarning: This module was deprecated in version 0.18 in favor of the model_selection module into which all the refactored classes and functions are moved. Also note that the interface of the new CV iterators are different from that of this module. This module will be removed in 0.20.\n",
      "  \"This module will be removed in 0.20.\", DeprecationWarning)\n"
     ]
    },
    {
     "name": "stdout",
     "output_type": "stream",
     "text": [
      "Old shape of X Train=(188318, 130)\n",
      "    |    Population Average   |             Best Individual              |\n",
      "---- ------------------------- ------------------------------------------ ----------\n",
      " Gen   Length          Fitness   Length          Fitness      OOB Fitness  Time Left\n"
     ]
    }
   ],
   "source": [
    "import pandas as pd\n",
    "import numpy as np\n",
    "import xgboost as xgb\n",
    "from sklearn.cross_validation import KFold\n",
    "from sklearn.metrics import mean_absolute_error\n",
    "from random import randint\n",
    "from gplearn.genetic import SymbolicRegressor, SymbolicTransformer\n",
    "from sklearn.utils import check_random_state\n",
    "\n",
    "train = pd.read_csv('./data/allstate/train.csv')\n",
    "test = pd.read_csv('./data/allstate/test.csv')\n",
    "\n",
    "test['loss'] = np.nan\n",
    "joined = pd.concat([train, test])\n",
    "\n",
    "def logregobj(preds, dtrain):\n",
    "    labels = dtrain.get_label()\n",
    "    con = 2\n",
    "    x =preds-labels\n",
    "    grad =con*x / (np.abs(x)+con)\n",
    "    hess =con**2 / (np.abs(x)+con)**2\n",
    "    return grad, hess \n",
    "\n",
    "def evalerror(preds, dtrain):\n",
    "    labels = dtrain.get_label()\n",
    "    return 'mae', mean_absolute_error(np.exp(preds), np.exp(labels))\n",
    "\n",
    "\n",
    "cat_feature = [n for n in joined.columns if n.startswith('cat')]    \n",
    "cont_feature = [n for n in joined.columns if n.startswith('cont')] \n",
    "             \n",
    "               \n",
    "\n",
    "for column in cat_feature:\n",
    "    joined[column] = pd.factorize(joined[column].values, sort=True)[0]\n",
    "\n",
    "train = joined[joined['loss'].notnull()]\n",
    "test = joined[joined['loss'].isnull()]\n",
    "\n",
    "shift = 202\n",
    "y = np.log(train['loss'] + shift)\n",
    "ids = test['id']\n",
    "X = train.drop(['loss', 'id'], 1)\n",
    "X_test = test.drop(['loss', 'id'], 1)\n",
    "\n",
    "print(\"Old shape of X Train={}\".format(X.shape))\n",
    "\n",
    "gp = SymbolicTransformer(generations=20, population_size=2000,\n",
    "                     hall_of_fame=100, n_components=20,                         \n",
    "                     parsimony_coefficient=0.0005,\n",
    "                     max_samples=0.9, verbose=1,\n",
    "                     random_state=0, n_jobs=10)\n",
    "gp.fit(X, y)\n",
    "gp_features_train = gp.transform(X)        \n",
    "X = np.hstack((X, gp_features_train))\n",
    "\n",
    "print(\"New shape of X Train={}\".format(X.shape)) \n",
    "\n",
    "print(\"Old shape of X Test={}\".format(X_test.shape)) \n",
    "gp_features_test = gp.transform(X_test)        \n",
    "X_test = np.hstack((X_test, gp_features_test))\n",
    "\n",
    "print(\"New shape of X Test={}\".format(X_test.shape))    \n",
    "\n",
    "#X = X.sample(frac=0.1)\n",
    "#y = y .iloc[X.index.values]"
   ]
  },
  {
   "cell_type": "code",
   "execution_count": null,
   "metadata": {
    "collapsed": true
   },
   "outputs": [],
   "source": []
  }
 ],
 "metadata": {
  "kernelspec": {
   "display_name": "Python [conda env:tensorflow]",
   "language": "python",
   "name": "conda-env-tensorflow-py"
  },
  "language_info": {
   "codemirror_mode": {
    "name": "ipython",
    "version": 3
   },
   "file_extension": ".py",
   "mimetype": "text/x-python",
   "name": "python",
   "nbconvert_exporter": "python",
   "pygments_lexer": "ipython3",
   "version": "3.5.2"
  }
 },
 "nbformat": 4,
 "nbformat_minor": 1
}
