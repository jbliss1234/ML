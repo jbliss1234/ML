{
 "cells": [
  {
   "cell_type": "code",
   "execution_count": 1,
   "metadata": {
    "collapsed": false,
    "scrolled": false
   },
   "outputs": [
    {
     "name": "stderr",
     "output_type": "stream",
     "text": [
      "/home/arvc/anaconda3/envs/tensorflow/lib/python3.5/site-packages/sklearn/cross_validation.py:44: DeprecationWarning: This module was deprecated in version 0.18 in favor of the model_selection module into which all the refactored classes and functions are moved. Also note that the interface of the new CV iterators are different from that of this module. This module will be removed in 0.20.\n",
      "  \"This module will be removed in 0.20.\", DeprecationWarning)\n"
     ]
    },
    {
     "name": "stdout",
     "output_type": "stream",
     "text": [
      "Train shape is: (188318, 132)\n",
      "Test shape is: (125546, 131)\n"
     ]
    },
    {
     "name": "stderr",
     "output_type": "stream",
     "text": [
      "/home/arvc/t81_558_deep_learning/utils.py:140: SettingWithCopyWarning: \n",
      "A value is trying to be set on a copy of a slice from a DataFrame\n",
      "\n",
      "See the caveats in the documentation: http://pandas.pydata.org/pandas-docs/stable/indexing.html#indexing-view-versus-copy\n",
      "  train.drop(\"type\", axis=1, inplace=True)\n",
      "/home/arvc/t81_558_deep_learning/utils.py:141: SettingWithCopyWarning: \n",
      "A value is trying to be set on a copy of a slice from a DataFrame\n",
      "\n",
      "See the caveats in the documentation: http://pandas.pydata.org/pandas-docs/stable/indexing.html#indexing-view-versus-copy\n",
      "  test.drop(\"type\", axis=1, inplace=True)\n"
     ]
    },
    {
     "name": "stdout",
     "output_type": "stream",
     "text": [
      "Final Train shape is: (160070, 1191)\n",
      "Final Valid shape is: (28248, 1191)\n",
      "Final Test shape is: (125546, 1191)\n",
      "float64\n",
      "float64\n",
      "float64\n"
     ]
    }
   ],
   "source": [
    "import pandas as pd\n",
    "import numpy as np\n",
    "import xgboost as xgb\n",
    "import time\n",
    "import os\n",
    "from random import randint\n",
    "from sklearn.cross_validation import train_test_split\n",
    "\n",
    "from sklearn.metrics import mean_absolute_error\n",
    "from utils import get_allstate_train_valid_test_testids, to_xy\n",
    "\n",
    "\n",
    "shift = 200\n",
    "\n",
    "def custom_objective_fn(preds, dtrain):\n",
    "    labels = dtrain.get_label()\n",
    "    con = 20\n",
    "    \n",
    "    #x = (np.exp(preds)-shift) - (np.exp(labels)-shift)\n",
    "    x = preds - labels\n",
    "    \n",
    "    gradient = con*x / (np.abs(x) + con)\n",
    "    hess = con**2 / (np.abs(x) + con)**2\n",
    "    \n",
    "    return gradient, hess\n",
    "    \n",
    "\n",
    "def evalerror(preds, dtrain):\n",
    "    labels = dtrain.get_label()\n",
    "    return 'mae', mean_absolute_error(np.exp(preds)-shift, np.exp(labels)-shift)\n",
    "\n",
    "train, valid, test, testids = get_allstate_train_valid_test_testids(0.15, shift, True)\n",
    "x_train, y_train = to_xy(train, \"loss\")\n",
    "x_valid, y_valid = to_xy(valid, \"loss\")\n",
    "x_test, y_test = to_xy(test, \"loss\")\n"
   ]
  },
  {
   "cell_type": "code",
   "execution_count": 2,
   "metadata": {
    "collapsed": false
   },
   "outputs": [
    {
     "data": {
      "text/plain": [
       "(160070, 1190)"
      ]
     },
     "execution_count": 2,
     "metadata": {},
     "output_type": "execute_result"
    }
   ],
   "source": [
    "x_train.shape"
   ]
  },
  {
   "cell_type": "code",
   "execution_count": 3,
   "metadata": {
    "collapsed": false,
    "scrolled": true
   },
   "outputs": [
    {
     "name": "stdout",
     "output_type": "stream",
     "text": [
      "MAE score on training data = 989.2601928710938\n",
      "MAE score on validation data = 1129.317138671875\n"
     ]
    }
   ],
   "source": [
    "xgtrain = xgb.DMatrix(x_train, label=y_train)\n",
    "xgvalid = xgb.DMatrix(x_valid, label=y_valid)\n",
    "xgtest = xgb.DMatrix(x_test)\n",
    "\n",
    "#best params on 11/1 for 85% train data: {'subsample': 1.0, 'n_estimators': 174.0, 'eta': 0.1, \n",
    "#'colsample_bytree': 0.4, 'gamma': 0.2, 'min_child_weight': 1.0, 'max_depth': 3}\n",
    "\n",
    "RANDOM_STATE = randint(1,429496)\n",
    "params = {\n",
    "    'min_child_weight': 1,\n",
    "    'eta': 0.01,\n",
    "    'colsample_bytree': 0.5,\n",
    "    'max_depth': 12,\n",
    "    'subsample': 0.8,\n",
    "    'alpha': 1,\n",
    "    'gamma': 1,\n",
    "    'silent': 1,\n",
    "    'verbose_eval': False,\n",
    "    'seed': RANDOM_STATE,\n",
    "    'eval_metric': 'mae',\n",
    "    'objective': 'reg:linear',\n",
    "}\n",
    "\n",
    "#model = xgb.train(params, xgtrain, int(2012 / 0.9), feval=evalerror)\n",
    "#model = xgb.train(params, xgtrain, 174, feval=evalerror)\n",
    "evallist  = [(xgvalid, 'eval')]\n",
    "model = xgb.train(params, xgtrain, 2240, evals=evallist, early_stopping_rounds=50, verbose_eval=False, \n",
    "                  feval=evalerror, obj=custom_objective_fn)\n",
    "\n",
    "#model = xgb.cv(params, xgtrain, 2240, early_stopping_rounds=50, verbose_eval=False, \n",
    "#                  feval=evalerror, obj=custom_objective_fn)\n",
    "\n",
    "train_predictions =  model.predict(xgtrain)\n",
    "valid_predictions = model.predict(xgvalid)\n",
    "mae_train = mean_absolute_error(np.exp(y_train) - shift, np.exp(train_predictions) - shift)\n",
    "mae_valid = mean_absolute_error(np.exp(y_valid) - shift, np.exp(valid_predictions) - shift)\n",
    "print(\"MAE score on training data = {}\".format(mae_train))\n",
    "print(\"MAE score on validation data = {}\".format(mae_valid))\n",
    "\n",
    "def make_submission(selected_model):\n",
    "    prediction = np.exp(selected_model.predict(xgtest)) - shift\n",
    "    submission = pd.DataFrame()    \n",
    "    submission['id'] = testids\n",
    "    submission['loss'] = prediction\n",
    "    timestr = time.strftime(\"%Y%m%d-%H%M%S\")\n",
    "    submission.to_csv(\"./data/allstate/sub_xgboost_{}.csv\".format(timestr), index=False)\n",
    "    \n",
    "#MAE score on training data = 972.9862923525721\n",
    "#MAE score on validation data = 1138.1939778279811"
   ]
  },
  {
   "cell_type": "code",
   "execution_count": 4,
   "metadata": {
    "collapsed": false
   },
   "outputs": [
    {
     "data": {
      "text/plain": [
       "<xgboost.core.Booster at 0x7f8505b3ffd0>"
      ]
     },
     "execution_count": 4,
     "metadata": {},
     "output_type": "execute_result"
    }
   ],
   "source": [
    "model"
   ]
  },
  {
   "cell_type": "code",
   "execution_count": 5,
   "metadata": {
    "collapsed": false
   },
   "outputs": [
    {
     "ename": "AttributeError",
     "evalue": "'Booster' object has no attribute 'model_performance'",
     "output_type": "error",
     "traceback": [
      "\u001b[0;31m---------------------------------------------------------------------------\u001b[0m",
      "\u001b[0;31mAttributeError\u001b[0m                            Traceback (most recent call last)",
      "\u001b[0;32m<ipython-input-5-7c5856eaac63>\u001b[0m in \u001b[0;36m<module>\u001b[0;34m()\u001b[0m\n\u001b[0;32m----> 1\u001b[0;31m \u001b[0mprint\u001b[0m\u001b[0;34m(\u001b[0m\u001b[0mmodel\u001b[0m\u001b[0;34m.\u001b[0m\u001b[0mmodel_performance\u001b[0m\u001b[0;34m(\u001b[0m\u001b[0mtrain\u001b[0m\u001b[0;34m)\u001b[0m\u001b[0;34m.\u001b[0m\u001b[0mmse\u001b[0m\u001b[0;34m(\u001b[0m\u001b[0;34m)\u001b[0m\u001b[0;34m)\u001b[0m\u001b[0;34m\u001b[0m\u001b[0m\n\u001b[0m",
      "\u001b[0;31mAttributeError\u001b[0m: 'Booster' object has no attribute 'model_performance'"
     ]
    }
   ],
   "source": [
    "print(model.model_performance(train).mse())"
   ]
  },
  {
   "cell_type": "code",
   "execution_count": 6,
   "metadata": {
    "collapsed": true
   },
   "outputs": [],
   "source": [
    "make_submission(model)"
   ]
  },
  {
   "cell_type": "code",
   "execution_count": null,
   "metadata": {
    "collapsed": true
   },
   "outputs": [],
   "source": []
  }
 ],
 "metadata": {
  "anaconda-cloud": {},
  "kernelspec": {
   "display_name": "Python [conda env:tensorflow]",
   "language": "python",
   "name": "conda-env-tensorflow-py"
  },
  "language_info": {
   "codemirror_mode": {
    "name": "ipython",
    "version": 3
   },
   "file_extension": ".py",
   "mimetype": "text/x-python",
   "name": "python",
   "nbconvert_exporter": "python",
   "pygments_lexer": "ipython3",
   "version": "3.5.2"
  }
 },
 "nbformat": 4,
 "nbformat_minor": 1
}
