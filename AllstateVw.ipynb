{
 "cells": [
  {
   "cell_type": "code",
   "execution_count": 2,
   "metadata": {
    "collapsed": false
   },
   "outputs": [],
   "source": [
    "import os\n",
    "import pandas as pd\n",
    "import numpy as np\n",
    "from stackregression import stack_regression_step1, stack_regression_step2, print_prediction_report\n",
    "from utils import encode_numeric_zscore_list, encode_numeric_zscore_all, to_xy, encode_text_index_list, encode_numeric_log_all\n",
    "from sklearn import preprocessing\n",
    "from sklearn.cross_validation import train_test_split\n",
    "from sklearn import preprocessing\n",
    "from sklearn.cross_validation import train_test_split\n",
    "from sklearn.datasets import dump_svmlight_file\n",
    "from scipy.sparse import csr_matrix, hstack\n",
    "from vowpalwabbit.sklearn_vw import VWRegressor\n",
    "from random import randint\n",
    "from sklearn.metrics import explained_variance_score,r2_score,mean_absolute_error\n",
    "from utils import get_allstate_train_valid_test_testids\n",
    "from operator import itemgetter\n",
    "from time import time\n",
    "from sklearn.grid_search import RandomizedSearchCV\n",
    "from scipy.stats.distributions import uniform"
   ]
  },
  {
   "cell_type": "code",
   "execution_count": 3,
   "metadata": {
    "collapsed": false
   },
   "outputs": [
    {
     "name": "stdout",
     "output_type": "stream",
     "text": [
      "Train shape is: (188318, 132)\n",
      "Test shape is: (125546, 131)\n"
     ]
    },
    {
     "name": "stderr",
     "output_type": "stream",
     "text": [
      "/home/arvc/t81_558_deep_learning/utils.py:139: SettingWithCopyWarning: \n",
      "A value is trying to be set on a copy of a slice from a DataFrame\n",
      "\n",
      "See the caveats in the documentation: http://pandas.pydata.org/pandas-docs/stable/indexing.html#indexing-view-versus-copy\n",
      "  train.drop(\"type\", axis=1, inplace=True)\n",
      "/home/arvc/t81_558_deep_learning/utils.py:140: SettingWithCopyWarning: \n",
      "A value is trying to be set on a copy of a slice from a DataFrame\n",
      "\n",
      "See the caveats in the documentation: http://pandas.pydata.org/pandas-docs/stable/indexing.html#indexing-view-versus-copy\n",
      "  test.drop(\"type\", axis=1, inplace=True)\n"
     ]
    },
    {
     "name": "stdout",
     "output_type": "stream",
     "text": [
      "Final Train shape is: (160070, 131)\n",
      "Final Valid shape is: (28248, 131)\n",
      "Final Test shape is: (125546, 131)\n"
     ]
    }
   ],
   "source": [
    "shift=200\n",
    "train, valid, test, testids = get_allstate_train_valid_test_testids(0.15, shift, True)"
   ]
  },
  {
   "cell_type": "code",
   "execution_count": 4,
   "metadata": {
    "collapsed": false
   },
   "outputs": [],
   "source": [
    "y_train = train[\"loss\"]\n",
    "x_train = train.drop(\"loss\", axis=1)"
   ]
  },
  {
   "cell_type": "code",
   "execution_count": 5,
   "metadata": {
    "collapsed": false
   },
   "outputs": [],
   "source": [
    "y_valid = valid[\"loss\"]\n",
    "x_valid = valid.drop(\"loss\", axis=1)"
   ]
  },
  {
   "cell_type": "code",
   "execution_count": 14,
   "metadata": {
    "collapsed": false
   },
   "outputs": [],
   "source": [
    "VWRegressor?"
   ]
  },
  {
   "cell_type": "code",
   "execution_count": null,
   "metadata": {
    "collapsed": false
   },
   "outputs": [],
   "source": [
    "# Utility function to report best scores\n",
    "def report(grid_scores, n_top=3):\n",
    "    top_scores = sorted(grid_scores, key=itemgetter(1), reverse=True)[:n_top]\n",
    "    for i, score in enumerate(top_scores):\n",
    "        print(\"Model with rank: {0}\".format(i + 1))\n",
    "        print(\"Mean validation score: {0:.3f} (std: {1:.3f})\".format(\n",
    "              score.mean_validation_score,\n",
    "              np.std(score.cv_validation_scores)))\n",
    "        print(\"Parameters: {0}\".format(score.parameters))\n",
    "        print(\"\")\n",
    "        \n",
    "# use a full grid over all parameters\n",
    "np.random.seed(0)\n",
    "n_iter = 200\n",
    "params = {\"l2\": uniform(0.0001, 0.01),\n",
    "          \"l\": [0.01, 0.1, 1.0],\n",
    "          \"power_t\": uniform(),\n",
    "          \"passes\": [5,10,15,20,25,30,35,40]}\n",
    "\n",
    "# run search\n",
    "search = RandomizedSearchCV(VWRegressor(), param_distributions=params, n_iter=n_iter)\n",
    "start = time()\n",
    "search.fit(x_train, y_train)\n",
    "\n",
    "print(\"Parameter search took %.2f seconds for %d candidate parameter settings.\"\n",
    "      % (time() - start, len(search.grid_scores_)))\n",
    "report(search.grid_scores_)\n",
    "\n",
    "# build model\n",
    "#model = VWRegressor(passes=200 , quiet=False, learning_rate=0.1, audit=False, progress=0.5, permutations=True)\n",
    "#model.fit(x_train, y_train)\n",
    "\n",
    "# evaluate model\n",
    "#model.score(x_train, y_train)\n",
    "#model.score(x_valid, y_valid)"
   ]
  },
  {
   "cell_type": "code",
   "execution_count": 12,
   "metadata": {
    "collapsed": false
   },
   "outputs": [
    {
     "name": "stdout",
     "output_type": "stream",
     "text": [
      "\tMAE 2681.2398237221023\n",
      "\n",
      "\n"
     ]
    }
   ],
   "source": [
    "predictions = np.exp(model.predict(x_valid)) - shift\n",
    "score = mean_absolute_error(y_valid, predictions)\n",
    "print(\"\\tMAE {0}\\n\\n\".format(score))"
   ]
  },
  {
   "cell_type": "code",
   "execution_count": null,
   "metadata": {
    "collapsed": true
   },
   "outputs": [],
   "source": []
  }
 ],
 "metadata": {
  "anaconda-cloud": {},
  "kernelspec": {
   "display_name": "Python [default]",
   "language": "python",
   "name": "python3"
  },
  "language_info": {
   "codemirror_mode": {
    "name": "ipython",
    "version": 3
   },
   "file_extension": ".py",
   "mimetype": "text/x-python",
   "name": "python",
   "nbconvert_exporter": "python",
   "pygments_lexer": "ipython3",
   "version": "3.5.2"
  }
 },
 "nbformat": 4,
 "nbformat_minor": 0
}
