{
 "cells": [
  {
   "cell_type": "code",
   "execution_count": 1,
   "metadata": {
    "collapsed": false
   },
   "outputs": [
    {
     "name": "stderr",
     "output_type": "stream",
     "text": [
      "/home/arvc/anaconda3/envs/tensorflow/lib/python3.5/site-packages/sklearn/cross_validation.py:44: DeprecationWarning: This module was deprecated in version 0.18 in favor of the model_selection module into which all the refactored classes and functions are moved. Also note that the interface of the new CV iterators are different from that of this module. This module will be removed in 0.20.\n",
      "  \"This module will be removed in 0.20.\", DeprecationWarning)\n"
     ]
    }
   ],
   "source": [
    "from sklearn.cross_validation import train_test_split\n",
    "from sklearn.metrics import log_loss\n",
    "from sklearn.metrics import explained_variance_score,r2_score,mean_squared_error\n",
    "from sklearn import preprocessing\n",
    "from random import randint\n",
    "import numpy as np\n",
    "import pandas as pd\n",
    "from hyperopt import hp\n",
    "from hyperopt import fmin, tpe, hp, STATUS_OK, Trials, rand\n",
    "import sys\n",
    "import os\n",
    "import tensorflow as tf\n",
    "from tensorflow.contrib import learn\n",
    "import tensorflow.contrib.learn as skflow\n",
    "from sklearn.cross_validation import KFold\n",
    "from utils import encode_numeric_zscore_list\n",
    "from patsy import dmatrices, dmatrix\n",
    "from itertools import permutations, combinations\n",
    "import sklearn.feature_selection as fs\n",
    "from sklearn.ensemble import RandomForestRegressor\n",
    "\n",
    "tf.logging.set_verbosity(tf.logging.INFO)\n",
    "\n",
    "train=pd.read_csv('./data/t81_558_train.csv')\n",
    "train.columns = ['Id', 'a', 'b', 'c', 'd', 'e', 'f', 'g', 'outcome']\n",
    "train = train.reindex(np.random.permutation(train.index))\n",
    "train.reset_index(inplace=True, drop=True)   "
   ]
  },
  {
   "cell_type": "code",
   "execution_count": 2,
   "metadata": {
    "collapsed": false
   },
   "outputs": [
    {
     "name": "stderr",
     "output_type": "stream",
     "text": [
      "[Parallel(n_jobs=1)]: Done 200 out of 200 | elapsed:  1.3min finished\n"
     ]
    }
   ],
   "source": [
    "y = train[\"outcome\"]\n",
    "x = train.drop([\"Id\", \"outcome\"], axis=1)\n",
    "forest = RandomForestRegressor(n_estimators = 200, random_state=0, verbose=True)\n",
    "forest.fit(x,y)\n",
    "importances = forest.feature_importances_\n",
    "std = np.std([tree.feature_importances_ for tree in forest.estimators_],axis=0)\n",
    "indices = np.argsort(importances)[::-1]"
   ]
  },
  {
   "cell_type": "code",
   "execution_count": 5,
   "metadata": {
    "collapsed": false
   },
   "outputs": [
    {
     "name": "stdout",
     "output_type": "stream",
     "text": [
      "Feature ranking:\n",
      "[(0.17299999999999999, 'f'), (0.16, 'a'), (0.15629999999999999, 'c'), (0.15529999999999999, 'b'), (0.1215, 'd'), (0.1191, 'g'), (0.1148, 'e')]\n"
     ]
    }
   ],
   "source": [
    "# Print the feature ranking\n",
    "print(\"Feature ranking:\")\n",
    "names = x.columns\n",
    "print (sorted(zip(map(lambda x: round(x, 4), importances), names), reverse=True))"
   ]
  },
  {
   "cell_type": "code",
   "execution_count": 6,
   "metadata": {
    "collapsed": true
   },
   "outputs": [],
   "source": [
    "test=pd.read_csv('./data/t81_558_test.csv')\n",
    "test['outcome'] = 0.0\n",
    "\n",
    "joined = pd.concat([train, test])\n",
    "idsplusoutcome = joined[[\"Id\", \"outcome\"]]"
   ]
  },
  {
   "cell_type": "code",
   "execution_count": 7,
   "metadata": {
    "collapsed": false
   },
   "outputs": [
    {
     "data": {
      "text/html": [
       "<div>\n",
       "<table border=\"1\" class=\"dataframe\">\n",
       "  <thead>\n",
       "    <tr style=\"text-align: right;\">\n",
       "      <th></th>\n",
       "      <th>Id</th>\n",
       "      <th>a</th>\n",
       "      <th>b</th>\n",
       "      <th>c</th>\n",
       "      <th>d</th>\n",
       "      <th>e</th>\n",
       "      <th>f</th>\n",
       "      <th>g</th>\n",
       "      <th>outcome</th>\n",
       "    </tr>\n",
       "  </thead>\n",
       "  <tbody>\n",
       "    <tr>\n",
       "      <th>0</th>\n",
       "      <td>25216</td>\n",
       "      <td>0.892848</td>\n",
       "      <td>-0.856285</td>\n",
       "      <td>0.881588</td>\n",
       "      <td>-0.662125</td>\n",
       "      <td>0.774099</td>\n",
       "      <td>-0.509136</td>\n",
       "      <td>-0.352580</td>\n",
       "      <td>-30.829022</td>\n",
       "    </tr>\n",
       "    <tr>\n",
       "      <th>1</th>\n",
       "      <td>12469</td>\n",
       "      <td>0.535534</td>\n",
       "      <td>-0.522371</td>\n",
       "      <td>-0.739895</td>\n",
       "      <td>0.948267</td>\n",
       "      <td>-0.225478</td>\n",
       "      <td>-0.388076</td>\n",
       "      <td>-0.550246</td>\n",
       "      <td>-0.105294</td>\n",
       "    </tr>\n",
       "    <tr>\n",
       "      <th>2</th>\n",
       "      <td>17310</td>\n",
       "      <td>-0.941762</td>\n",
       "      <td>-0.781017</td>\n",
       "      <td>0.010367</td>\n",
       "      <td>0.740697</td>\n",
       "      <td>0.072541</td>\n",
       "      <td>0.748063</td>\n",
       "      <td>0.787869</td>\n",
       "      <td>1.605958</td>\n",
       "    </tr>\n",
       "    <tr>\n",
       "      <th>3</th>\n",
       "      <td>28482</td>\n",
       "      <td>0.391951</td>\n",
       "      <td>-0.226443</td>\n",
       "      <td>-0.520205</td>\n",
       "      <td>0.378066</td>\n",
       "      <td>-0.328574</td>\n",
       "      <td>0.967261</td>\n",
       "      <td>0.819377</td>\n",
       "      <td>-1.308662</td>\n",
       "    </tr>\n",
       "    <tr>\n",
       "      <th>4</th>\n",
       "      <td>17708</td>\n",
       "      <td>-0.707722</td>\n",
       "      <td>0.925603</td>\n",
       "      <td>-0.858180</td>\n",
       "      <td>0.625837</td>\n",
       "      <td>0.490596</td>\n",
       "      <td>0.859047</td>\n",
       "      <td>0.917338</td>\n",
       "      <td>0.442356</td>\n",
       "    </tr>\n",
       "  </tbody>\n",
       "</table>\n",
       "</div>"
      ],
      "text/plain": [
       "      Id         a         b         c         d         e         f  \\\n",
       "0  25216  0.892848 -0.856285  0.881588 -0.662125  0.774099 -0.509136   \n",
       "1  12469  0.535534 -0.522371 -0.739895  0.948267 -0.225478 -0.388076   \n",
       "2  17310 -0.941762 -0.781017  0.010367  0.740697  0.072541  0.748063   \n",
       "3  28482  0.391951 -0.226443 -0.520205  0.378066 -0.328574  0.967261   \n",
       "4  17708 -0.707722  0.925603 -0.858180  0.625837  0.490596  0.859047   \n",
       "\n",
       "          g    outcome  \n",
       "0 -0.352580 -30.829022  \n",
       "1 -0.550246  -0.105294  \n",
       "2  0.787869   1.605958  \n",
       "3  0.819377  -1.308662  \n",
       "4  0.917338   0.442356  "
      ]
     },
     "execution_count": 7,
     "metadata": {},
     "output_type": "execute_result"
    }
   ],
   "source": [
    "joined.head()"
   ]
  },
  {
   "cell_type": "code",
   "execution_count": 8,
   "metadata": {
    "collapsed": false
   },
   "outputs": [],
   "source": [
    "most_important_features = \"facb\"\n",
    "comb2 = list(combinations(most_important_features,2))\n",
    "#comb3 = list(combinations('abcdefg',3))\n",
    "#comb4 = list(combinations('abcdefg',4))\n",
    "#comb5 = list(combinations('abcdefg',5))"
   ]
  },
  {
   "cell_type": "code",
   "execution_count": 9,
   "metadata": {
    "collapsed": false
   },
   "outputs": [
    {
     "name": "stdout",
     "output_type": "stream",
     "text": [
      "I(f/a) + I(f/c) + I(f/b) + I(a/c) + I(a/b) + I(c/b) + I(f-a) + I(f-c) + I(f-b) + I(a-c) + I(a-b) + I(c-b) + I(f*a) + I(f*c) + I(f*b) + I(a*c) + I(a*b) + I(c*b) + I(f+a) + I(f+c) + I(f+b) + I(a+c) + I(a+b) + I(c+b)\n"
     ]
    }
   ],
   "source": [
    "divide_2 = \" + \".join(map(lambda x: \"I(\" + x[0] + \"/\" + x[1] + \")\", comb2))\n",
    "subtract_2 = \" + \".join(map(lambda x: \"I(\" + x[0] + \"-\" + x[1] + \")\", comb2))\n",
    "mul_2 = \" + \".join(map(lambda x: \"I(\" + x[0] + \"*\" + x[1] + \")\", comb2))\n",
    "add_2 = \" + \".join(map(lambda x: \"I(\" + x[0] + \"+\" + x[1] + \")\", comb2))\n",
    "combo_string_2 = divide_2 + \" + \" + subtract_2 + \" + \" + mul_2 + \" + \" + add_2\n",
    "print (combo_string_2)"
   ]
  },
  {
   "cell_type": "code",
   "execution_count": 89,
   "metadata": {
    "collapsed": false
   },
   "outputs": [
    {
     "name": "stdout",
     "output_type": "stream",
     "text": [
      "I(a+b+c) + I(a+b+d) + I(a+b+e) + I(a+b+f) + I(a+b+g) + I(a+c+d) + I(a+c+e) + I(a+c+f) + I(a+c+g) + I(a+d+e) + I(a+d+f) + I(a+d+g) + I(a+e+f) + I(a+e+g) + I(a+f+g) + I(b+c+d) + I(b+c+e) + I(b+c+f) + I(b+c+g) + I(b+d+e) + I(b+d+f) + I(b+d+g) + I(b+e+f) + I(b+e+g) + I(b+f+g) + I(c+d+e) + I(c+d+f) + I(c+d+g) + I(c+e+f) + I(c+e+g) + I(c+f+g) + I(d+e+f) + I(d+e+g) + I(d+f+g) + I(e+f+g)\n"
     ]
    }
   ],
   "source": [
    "#a3 = \" + \".join(map(lambda x: \"I(\" + x[0] + \"+\" + x[1] + \"+\" + x[2] + \")\", comb3))\n",
    "#print (a3)"
   ]
  },
  {
   "cell_type": "code",
   "execution_count": 90,
   "metadata": {
    "collapsed": false
   },
   "outputs": [
    {
     "name": "stdout",
     "output_type": "stream",
     "text": [
      "I(a+b+c+d) + I(a+b+c+e) + I(a+b+c+f) + I(a+b+c+g) + I(a+b+d+e) + I(a+b+d+f) + I(a+b+d+g) + I(a+b+e+f) + I(a+b+e+g) + I(a+b+f+g) + I(a+c+d+e) + I(a+c+d+f) + I(a+c+d+g) + I(a+c+e+f) + I(a+c+e+g) + I(a+c+f+g) + I(a+d+e+f) + I(a+d+e+g) + I(a+d+f+g) + I(a+e+f+g) + I(b+c+d+e) + I(b+c+d+f) + I(b+c+d+g) + I(b+c+e+f) + I(b+c+e+g) + I(b+c+f+g) + I(b+d+e+f) + I(b+d+e+g) + I(b+d+f+g) + I(b+e+f+g) + I(c+d+e+f) + I(c+d+e+g) + I(c+d+f+g) + I(c+e+f+g) + I(d+e+f+g)\n"
     ]
    }
   ],
   "source": [
    "#a4 = \" + \".join(map(lambda x: \"I(\" + x[0] + \"+\" + x[1] + \"+\" + x[2] + \"+\" + x[3] + \")\", comb4))\n",
    "#print (a4)"
   ]
  },
  {
   "cell_type": "code",
   "execution_count": 91,
   "metadata": {
    "collapsed": false
   },
   "outputs": [
    {
     "name": "stdout",
     "output_type": "stream",
     "text": [
      "I(a+b+c+d+e) + I(a+b+c+d+f) + I(a+b+c+d+g) + I(a+b+c+e+f) + I(a+b+c+e+g) + I(a+b+c+f+g) + I(a+b+d+e+f) + I(a+b+d+e+g) + I(a+b+d+f+g) + I(a+b+e+f+g) + I(a+c+d+e+f) + I(a+c+d+e+g) + I(a+c+d+f+g) + I(a+c+e+f+g) + I(a+d+e+f+g) + I(b+c+d+e+f) + I(b+c+d+e+g) + I(b+c+d+f+g) + I(b+c+e+f+g) + I(b+d+e+f+g) + I(c+d+e+f+g)\n"
     ]
    }
   ],
   "source": [
    "#a5 = \" + \".join(map(lambda x: \"I(\" + x[0] + \"+\" + x[1] + \"+\" + x[2] + \"+\" + x[3] + \"+\" + x[4] + \")\", comb5)) \n",
    "#print (a5)"
   ]
  },
  {
   "cell_type": "code",
   "execution_count": 10,
   "metadata": {
    "collapsed": false
   },
   "outputs": [
    {
     "name": "stdout",
     "output_type": "stream",
     "text": [
      "outcome ~ a + b + c + d + e + f + g + I(f/a) + I(f/c) + I(f/b) + I(a/c) + I(a/b) + I(c/b) + I(f-a) + I(f-c) + I(f-b) + I(a-c) + I(a-b) + I(c-b) + I(f*a) + I(f*c) + I(f*b) + I(a*c) + I(a*b) + I(c*b) + I(f+a) + I(f+c) + I(f+b) + I(a+c) + I(a+b) + I(c+b) - 1\n"
     ]
    }
   ],
   "source": [
    "formula = \"outcome ~ a + b + c + d + e + f + g + \" + combo_string_2 + \" - 1\"\n",
    "print (formula)"
   ]
  },
  {
   "cell_type": "code",
   "execution_count": 11,
   "metadata": {
    "collapsed": false
   },
   "outputs": [
    {
     "data": {
      "text/html": [
       "<div>\n",
       "<table border=\"1\" class=\"dataframe\">\n",
       "  <thead>\n",
       "    <tr style=\"text-align: right;\">\n",
       "      <th></th>\n",
       "      <th>0</th>\n",
       "      <th>1</th>\n",
       "      <th>2</th>\n",
       "      <th>3</th>\n",
       "      <th>4</th>\n",
       "      <th>5</th>\n",
       "      <th>6</th>\n",
       "      <th>7</th>\n",
       "      <th>8</th>\n",
       "      <th>9</th>\n",
       "      <th>...</th>\n",
       "      <th>21</th>\n",
       "      <th>22</th>\n",
       "      <th>23</th>\n",
       "      <th>24</th>\n",
       "      <th>25</th>\n",
       "      <th>26</th>\n",
       "      <th>27</th>\n",
       "      <th>28</th>\n",
       "      <th>29</th>\n",
       "      <th>30</th>\n",
       "    </tr>\n",
       "  </thead>\n",
       "  <tbody>\n",
       "    <tr>\n",
       "      <th>0</th>\n",
       "      <td>0.892848</td>\n",
       "      <td>-0.856285</td>\n",
       "      <td>0.881588</td>\n",
       "      <td>-0.662125</td>\n",
       "      <td>0.774099</td>\n",
       "      <td>-0.509136</td>\n",
       "      <td>-0.352580</td>\n",
       "      <td>-0.570238</td>\n",
       "      <td>-0.577521</td>\n",
       "      <td>0.594587</td>\n",
       "      <td>...</td>\n",
       "      <td>0.435965</td>\n",
       "      <td>0.787124</td>\n",
       "      <td>-0.764533</td>\n",
       "      <td>-0.754890</td>\n",
       "      <td>0.383713</td>\n",
       "      <td>0.372452</td>\n",
       "      <td>-1.365421</td>\n",
       "      <td>1.774436</td>\n",
       "      <td>0.036563</td>\n",
       "      <td>0.025303</td>\n",
       "    </tr>\n",
       "    <tr>\n",
       "      <th>1</th>\n",
       "      <td>0.535534</td>\n",
       "      <td>-0.522371</td>\n",
       "      <td>-0.739895</td>\n",
       "      <td>0.948267</td>\n",
       "      <td>-0.225478</td>\n",
       "      <td>-0.388076</td>\n",
       "      <td>-0.550246</td>\n",
       "      <td>-0.724652</td>\n",
       "      <td>0.524501</td>\n",
       "      <td>0.742912</td>\n",
       "      <td>...</td>\n",
       "      <td>0.202719</td>\n",
       "      <td>-0.396239</td>\n",
       "      <td>-0.279748</td>\n",
       "      <td>0.386500</td>\n",
       "      <td>0.147458</td>\n",
       "      <td>-1.127970</td>\n",
       "      <td>-0.910447</td>\n",
       "      <td>-0.204361</td>\n",
       "      <td>0.013163</td>\n",
       "      <td>-1.262266</td>\n",
       "    </tr>\n",
       "    <tr>\n",
       "      <th>2</th>\n",
       "      <td>-0.941762</td>\n",
       "      <td>-0.781017</td>\n",
       "      <td>0.010367</td>\n",
       "      <td>0.740697</td>\n",
       "      <td>0.072541</td>\n",
       "      <td>0.748063</td>\n",
       "      <td>0.787869</td>\n",
       "      <td>-0.794322</td>\n",
       "      <td>72.157765</td>\n",
       "      <td>-0.957806</td>\n",
       "      <td>...</td>\n",
       "      <td>-0.584249</td>\n",
       "      <td>-0.009763</td>\n",
       "      <td>0.735532</td>\n",
       "      <td>-0.008097</td>\n",
       "      <td>-0.193699</td>\n",
       "      <td>0.758430</td>\n",
       "      <td>-0.032954</td>\n",
       "      <td>-0.931395</td>\n",
       "      <td>-1.722779</td>\n",
       "      <td>-0.770650</td>\n",
       "    </tr>\n",
       "    <tr>\n",
       "      <th>3</th>\n",
       "      <td>0.391951</td>\n",
       "      <td>-0.226443</td>\n",
       "      <td>-0.520205</td>\n",
       "      <td>0.378066</td>\n",
       "      <td>-0.328574</td>\n",
       "      <td>0.967261</td>\n",
       "      <td>0.819377</td>\n",
       "      <td>2.467813</td>\n",
       "      <td>-1.859382</td>\n",
       "      <td>-4.271545</td>\n",
       "      <td>...</td>\n",
       "      <td>-0.219029</td>\n",
       "      <td>-0.203895</td>\n",
       "      <td>-0.088754</td>\n",
       "      <td>0.117797</td>\n",
       "      <td>1.359211</td>\n",
       "      <td>0.447055</td>\n",
       "      <td>0.740818</td>\n",
       "      <td>-0.128255</td>\n",
       "      <td>0.165508</td>\n",
       "      <td>-0.746648</td>\n",
       "    </tr>\n",
       "    <tr>\n",
       "      <th>4</th>\n",
       "      <td>-0.707722</td>\n",
       "      <td>0.925603</td>\n",
       "      <td>-0.858180</td>\n",
       "      <td>0.625837</td>\n",
       "      <td>0.490596</td>\n",
       "      <td>0.859047</td>\n",
       "      <td>0.917338</td>\n",
       "      <td>-1.213821</td>\n",
       "      <td>-1.001011</td>\n",
       "      <td>0.928095</td>\n",
       "      <td>...</td>\n",
       "      <td>0.795137</td>\n",
       "      <td>0.607352</td>\n",
       "      <td>-0.655070</td>\n",
       "      <td>-0.794334</td>\n",
       "      <td>0.151326</td>\n",
       "      <td>0.000868</td>\n",
       "      <td>1.784651</td>\n",
       "      <td>-1.565901</td>\n",
       "      <td>0.217882</td>\n",
       "      <td>0.067424</td>\n",
       "    </tr>\n",
       "  </tbody>\n",
       "</table>\n",
       "<p>5 rows × 31 columns</p>\n",
       "</div>"
      ],
      "text/plain": [
       "         0         1         2         3         4         5         6   \\\n",
       "0  0.892848 -0.856285  0.881588 -0.662125  0.774099 -0.509136 -0.352580   \n",
       "1  0.535534 -0.522371 -0.739895  0.948267 -0.225478 -0.388076 -0.550246   \n",
       "2 -0.941762 -0.781017  0.010367  0.740697  0.072541  0.748063  0.787869   \n",
       "3  0.391951 -0.226443 -0.520205  0.378066 -0.328574  0.967261  0.819377   \n",
       "4 -0.707722  0.925603 -0.858180  0.625837  0.490596  0.859047  0.917338   \n",
       "\n",
       "         7          8         9     ...           21        22        23  \\\n",
       "0 -0.570238  -0.577521  0.594587    ...     0.435965  0.787124 -0.764533   \n",
       "1 -0.724652   0.524501  0.742912    ...     0.202719 -0.396239 -0.279748   \n",
       "2 -0.794322  72.157765 -0.957806    ...    -0.584249 -0.009763  0.735532   \n",
       "3  2.467813  -1.859382 -4.271545    ...    -0.219029 -0.203895 -0.088754   \n",
       "4 -1.213821  -1.001011  0.928095    ...     0.795137  0.607352 -0.655070   \n",
       "\n",
       "         24        25        26        27        28        29        30  \n",
       "0 -0.754890  0.383713  0.372452 -1.365421  1.774436  0.036563  0.025303  \n",
       "1  0.386500  0.147458 -1.127970 -0.910447 -0.204361  0.013163 -1.262266  \n",
       "2 -0.008097 -0.193699  0.758430 -0.032954 -0.931395 -1.722779 -0.770650  \n",
       "3  0.117797  1.359211  0.447055  0.740818 -0.128255  0.165508 -0.746648  \n",
       "4 -0.794334  0.151326  0.000868  1.784651 -1.565901  0.217882  0.067424  \n",
       "\n",
       "[5 rows x 31 columns]"
      ]
     },
     "execution_count": 11,
     "metadata": {},
     "output_type": "execute_result"
    }
   ],
   "source": [
    "#outcome, predictors = dmatrices(\"outcome ~ a + b + c + d + e + f + g + I(a+b) + I(a+b+c) + I(b+c) + I(b+c+d) + I(c+d) + I(c+d+e) + I(d+e) + I(d+e+f) + I(e+f) + I(e+f+g) a*b*c*d*e*f*g - 1\", joined)\n",
    "outcome, predictors = dmatrices(formula, joined)\n",
    "predictors = pd.DataFrame(predictors)\n",
    "predictors.head()"
   ]
  },
  {
   "cell_type": "code",
   "execution_count": 12,
   "metadata": {
    "collapsed": false
   },
   "outputs": [],
   "source": [
    "idsplusoutcome.shape\n",
    "idsplusoutcome.reset_index(inplace=True, drop=True)  "
   ]
  },
  {
   "cell_type": "code",
   "execution_count": 13,
   "metadata": {
    "collapsed": false
   },
   "outputs": [],
   "source": [
    "predictors.shape\n",
    "predictors.reset_index(inplace=True, drop=True)  "
   ]
  },
  {
   "cell_type": "code",
   "execution_count": 14,
   "metadata": {
    "collapsed": false
   },
   "outputs": [
    {
     "data": {
      "text/plain": [
       "(79670, 31)"
      ]
     },
     "execution_count": 14,
     "metadata": {},
     "output_type": "execute_result"
    }
   ],
   "source": [
    "predictors.shape"
   ]
  },
  {
   "cell_type": "code",
   "execution_count": 15,
   "metadata": {
    "collapsed": false
   },
   "outputs": [],
   "source": [
    "joined = pd.concat([idsplusoutcome, pd.DataFrame(predictors)], axis=1)"
   ]
  },
  {
   "cell_type": "code",
   "execution_count": 16,
   "metadata": {
    "collapsed": false
   },
   "outputs": [
    {
     "name": "stdout",
     "output_type": "stream",
     "text": [
      "['Id', 'outcome', 0, 1, 2, 3, 4, 5, 6, 7, 8, 9, 10, 11, 12, 13, 14, 15, 16, 17, 18, 19, 20, 21, 22, 23, 24, 25, 26, 27, 28, 29, 30]\n"
     ]
    }
   ],
   "source": [
    "print(list(joined.columns))"
   ]
  },
  {
   "cell_type": "code",
   "execution_count": 17,
   "metadata": {
    "collapsed": false
   },
   "outputs": [],
   "source": [
    "encode_numeric_zscore_list(joined,[0, 1, 2, 3, 4, 5, 6, 7, 8, 9, 10, 11, 12, 13, 14, 15, 16, 17, 18, 19, 20, 21, 22, 23, 24, 25, 26, 27, 28, 29, 30])\n",
    "\n",
    "train = joined[joined['outcome'] != 0.0]\n",
    "test = joined[joined['outcome'] == 0.0]"
   ]
  },
  {
   "cell_type": "code",
   "execution_count": 18,
   "metadata": {
    "collapsed": true
   },
   "outputs": [],
   "source": [
    "y = train['outcome']\n",
    "x = train.drop(['outcome', 'Id'], 1)\n",
    "\n",
    "test_ids = test[\"Id\"]\n",
    "test = test.drop([\"outcome\", \"Id\"], 1)"
   ]
  },
  {
   "cell_type": "code",
   "execution_count": null,
   "metadata": {
    "collapsed": false,
    "scrolled": true
   },
   "outputs": [
    {
     "name": "stderr",
     "output_type": "stream",
     "text": [
      "WARNING:tensorflow:float64 is not supported by many models, consider casting to float32.\n",
      "WARNING:tensorflow:Change warning: default value of `enable_centered_bias` will change after 2016-10-09. It will be disabled by default.Instructions for keeping existing behaviour:\n",
      "Explicitly set `enable_centered_bias` to 'True' if you want to keep existing behaviour.\n",
      "WARNING:tensorflow:Using temporary folder as model directory: /tmp/tmpb3c5aeg8\n",
      "WARNING:tensorflow:Using default config.\n",
      "INFO:tensorflow:Using config: {'keep_checkpoint_every_n_hours': 10000, 'evaluation_master': '', 'task': 0, '_is_chief': True, 'num_ps_replicas': 0, 'tf_random_seed': None, 'save_summary_steps': 100, '_job_name': None, 'master': '', 'keep_checkpoint_max': 5, 'cluster_spec': None, 'tf_config': gpu_options {\n",
      "  per_process_gpu_memory_fraction: 1\n",
      "}\n",
      ", 'save_checkpoints_secs': 600}\n",
      "WARNING:tensorflow:float64 is not supported by many models, consider casting to float32.\n",
      "WARNING:tensorflow:float64 is not supported by many models, consider casting to float32.\n",
      "INFO:tensorflow:Setting feature info to TensorSignature(dtype=tf.float64, shape=TensorShape([Dimension(None), Dimension(31)]), is_sparse=False)\n",
      "INFO:tensorflow:Setting targets info to TensorSignature(dtype=tf.float64, shape=TensorShape([Dimension(None)]), is_sparse=False)\n",
      "INFO:tensorflow:Transforming feature_column _RealValuedColumn(column_name='', dimension=31, default_value=None, dtype=tf.float64, normalizer=None)\n"
     ]
    },
    {
     "name": "stdout",
     "output_type": "stream",
     "text": [
      "\n",
      " Fold 1\n"
     ]
    },
    {
     "name": "stderr",
     "output_type": "stream",
     "text": [
      "INFO:tensorflow:Create CheckpointSaverHook\n",
      "INFO:tensorflow:loss = 412.603, step = 1\n",
      "INFO:tensorflow:Saving checkpoints for 1 into /tmp/tmpb3c5aeg8/model.ckpt.\n",
      "INFO:tensorflow:loss = 375.289, step = 101\n",
      "INFO:tensorflow:loss = 263.561, step = 201\n"
     ]
    }
   ],
   "source": [
    "n_folds  = 5\n",
    "kf = KFold(x.shape[0], n_folds=n_folds)\n",
    "pred_df = pd.DataFrame()\n",
    "\n",
    "for i, (train_index, test_index) in enumerate(kf):\n",
    "    print('\\n Fold %d' % (i + 1))\n",
    "    x_train, x_valid = x.iloc[train_index], x.iloc[test_index]\n",
    "    y_train, y_valid = y.iloc[train_index], y.iloc[test_index]    \n",
    "\n",
    "    feature_columns = learn.infer_real_valued_columns_from_input(x_train) \n",
    "    model = skflow.DNNRegressor(hidden_units=[100, 150, 75, 5],feature_columns=feature_columns)\n",
    "\n",
    "    model.fit(x_train, y_train,steps=10000)\n",
    "    valid_predictions = model.predict(x_valid)\n",
    "    valid_rmse = np.sqrt(mean_squared_error(y_valid, valid_predictions))\n",
    "    print(\"Fold: {}; RMSE: {}\".format(i+1,valid_rmse))\n",
    "    \n",
    "    testpreds = model.predict(test).flatten()\n",
    "    pred_df[\"Pred{}\".format(i+1)] = pd.Series(testpreds)\n",
    "\n",
    "submission = pd.DataFrame()\n",
    "submission['Id'] = test_ids    \n",
    "submission['outcome'] = pred_df.mean(axis=1)\n",
    "submission = submission.drop(submission[submission.Id > 10000].index)\n",
    "print(\"Writing submission file\")\n",
    "submission.to_csv('./data/sub_t81_transformed_cv10.csv', index=False)"
   ]
  },
  {
   "cell_type": "code",
   "execution_count": null,
   "metadata": {
    "collapsed": true
   },
   "outputs": [],
   "source": []
  }
 ],
 "metadata": {
  "anaconda-cloud": {},
  "kernelspec": {
   "display_name": "Python [conda env:tensorflow]",
   "language": "python",
   "name": "conda-env-tensorflow-py"
  },
  "language_info": {
   "codemirror_mode": {
    "name": "ipython",
    "version": 3
   },
   "file_extension": ".py",
   "mimetype": "text/x-python",
   "name": "python",
   "nbconvert_exporter": "python",
   "pygments_lexer": "ipython3",
   "version": "3.5.2"
  }
 },
 "nbformat": 4,
 "nbformat_minor": 1
}
